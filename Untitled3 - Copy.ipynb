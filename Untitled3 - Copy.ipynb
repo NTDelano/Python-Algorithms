{
 "cells": [
  {
   "cell_type": "code",
   "execution_count": 1,
   "metadata": {},
   "outputs": [
    {
     "name": "stdout",
     "output_type": "stream",
     "text": [
      "[(13, 6), (25, 2), (47, 4), (11, 3), (92, 7), (68, 5)]\n",
      "(47, 4)\n",
      "47\n",
      "[(11, 3), (13, 6), (25, 2), (47, 4), (68, 5), (92, 7)]\n",
      "[(25, 2), (11, 3), (47, 4), (68, 5), (13, 6), (92, 7)]\n"
     ]
    },
    {
     "data": {
      "image/png": "[encoded data removed]",
      "text/plain": [
       "<Figure size 432x288 with 1 Axes>"
      ]
     },
     "metadata": {
      "needs_background": "light"
     },
     "output_type": "display_data"
    }
   ],
   "source": [
    "import decimal\n",
    "import operator\n",
    "import matplotlib.pyplot as plt\n",
    "\n",
    "\n",
    "a=(6,2,4,3,7,5)\n",
    "b=(13,25,47,11,92,68)\n",
    "\n",
    "# Create a list of ordered pairs-ie tuples\n",
    "c=list(zip(b,a))\n",
    "print(c)\n",
    "\n",
    "print(c[2])  # Print the 3rd ordered pair\n",
    "print(c[2][0]) # Print the 1st element in the 3rd ordered pair\n",
    "\n",
    "\n",
    "\n",
    "\n",
    "\n",
    "# The following are 2 diff ways to sort based on which\n",
    "# value you are sorting on.\n",
    "Px = sorted(c, key=operator.itemgetter(0)) #-(c is a list of tuples)\n",
    "print(Px)\n",
    "\n",
    "Py = sorted(c, key=lambda x: x[1])\n",
    "print(Py)\n",
    "\n",
    "plt.scatter(b, a)\n",
    "plt.show()\n",
    "\n",
    "# Might be useful to unzip a list of ordered tuples-\n",
    "# so you could scatterplot the ordered tuples - Let us know\n",
    "# if you are able to discover a way to do this\n",
    "\n",
    "\n"
   ]
  }
 ],
 "metadata": {
  "kernelspec": {
   "display_name": "Python 3",
   "language": "python",
   "name": "python3"
  },
  "language_info": {
   "codemirror_mode": {
    "name": "ipython",
    "version": 3
   },
   "file_extension": ".py",
   "mimetype": "text/x-python",
   "name": "python",
   "nbconvert_exporter": "python",
   "pygments_lexer": "ipython3",
   "version": "3.8.3"
  }
 },
 "nbformat": 4,
 "nbformat_minor": 4
}
