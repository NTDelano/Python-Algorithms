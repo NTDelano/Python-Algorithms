{
 "cells": [
  {
   "cell_type": "code",
   "execution_count": 1,
   "metadata": {},
   "outputs": [],
   "source": [
    "#Program 1: Number of inversion using the brute force method\n",
    "def Number_of_Inversions_BF(A):\n",
    "    n = len(A)\n",
    "    count = 0\n",
    "    #iterate through array\n",
    "    for i in range(n):\n",
    "        for j in range(i+1,n):\n",
    "            #If element after i is less the i element, then that is one inverse added\n",
    "            if A[i] > A[j]:\n",
    "                count+=1\n",
    "    return count"
   ]
  },
  {
   "cell_type": "code",
   "execution_count": 2,
   "metadata": {},
   "outputs": [
    {
     "data": {
      "text/plain": [
       "17"
      ]
     },
     "execution_count": 2,
     "metadata": {},
     "output_type": "execute_result"
    }
   ],
   "source": [
    "arr = [4,2,1,7,6,5,3,0]\n",
    "Number_of_Inversions_BF(arr)"
   ]
  },
  {
   "cell_type": "code",
   "execution_count": 3,
   "metadata": {},
   "outputs": [
    {
     "data": {
      "text/plain": [
       "11"
      ]
     },
     "execution_count": 3,
     "metadata": {},
     "output_type": "execute_result"
    }
   ],
   "source": [
    "arr = [3,2,1,5,10,6,4,8,7,9]\n",
    "Number_of_Inversions_BF(arr)"
   ]
  },
  {
   "cell_type": "code",
   "execution_count": 4,
   "metadata": {
    "scrolled": true
   },
   "outputs": [
    {
     "data": {
      "text/plain": [
       "13"
      ]
     },
     "execution_count": 4,
     "metadata": {},
     "output_type": "execute_result"
    }
   ],
   "source": [
    "arr = [1,20,6,7,5,8,11,3]\n",
    "Number_of_Inversions_BF(arr)"
   ]
  },
  {
   "cell_type": "code",
   "execution_count": 5,
   "metadata": {},
   "outputs": [],
   "source": [
    "#Program 2: Counts the number of split inversions between two arrays\n",
    "def Number_Split_Inversions(C,D):\n",
    "    B=[]\n",
    "    splits = 0\n",
    "    i,j = 0,0\n",
    "    #Based this off my previous merge sort algorithm from HW 8-9\n",
    "    #Iterate through C using i and D using j\n",
    "    while i<len(C) and j<len(D):\n",
    "        #if the i element in c is bigger that the j element in D\n",
    "        if C[i]>D[j]:\n",
    "            #Then we tally up all the values from i as they are all inverses\n",
    "            splits += len(C)-i\n",
    "            #Then add the element to sorted array since it is the smaller value\n",
    "            B.append(D[j])\n",
    "            j += 1\n",
    "        else:\n",
    "            B.append(C[i])\n",
    "            i += 1\n",
    "    #Both while loops below are in case there are still elements lift in C or D\n",
    "    while i<len(C):\n",
    "        B.append(C[i])\n",
    "        i+=1\n",
    "    while j<len(D):\n",
    "        B.append(D[j])\n",
    "        j+=1\n",
    "    return splits, B"
   ]
  },
  {
   "cell_type": "code",
   "execution_count": 6,
   "metadata": {
    "scrolled": true
   },
   "outputs": [
    {
     "data": {
      "text/plain": [
       "(8, [0, 1, 2, 3, 4, 5, 6, 7])"
      ]
     },
     "execution_count": 6,
     "metadata": {},
     "output_type": "execute_result"
    }
   ],
   "source": [
    "C = [1,2,4,7]\n",
    "D = [0,3,5,6]\n",
    "Number_Split_Inversions(C,D)"
   ]
  },
  {
   "cell_type": "code",
   "execution_count": 7,
   "metadata": {},
   "outputs": [
    {
     "data": {
      "text/plain": [
       "(11, [0, 1, 2, 3, 4, 5, 6, 7])"
      ]
     },
     "execution_count": 7,
     "metadata": {},
     "output_type": "execute_result"
    }
   ],
   "source": [
    "C = [2,3,5,7]\n",
    "D = [0,1,4,6]\n",
    "Number_Split_Inversions(C,D)"
   ]
  },
  {
   "cell_type": "code",
   "execution_count": 8,
   "metadata": {},
   "outputs": [],
   "source": [
    "#Program 3: Total amount of inverses using the merge sort algorithm\n",
    "def Total_Inversions_Merge(A):\n",
    "    B=[]\n",
    "    if len(A) > 1:\n",
    "        #Recursive method\n",
    "        #Split array in two\n",
    "        part = len(A)//2\n",
    "        C = A[:part]\n",
    "        D = A[part:]\n",
    "        #print(C,D)\n",
    "        #Then analyze thos smaller pieces\n",
    "        #Then use my previous program to count the number of inverses\n",
    "        inv1, C = Total_Inversions_Merge(C)\n",
    "        inv2, D = Total_Inversions_Merge(D)\n",
    "        inversions,B = Number_Split_Inversions(C,D)\n",
    "        #Tally up all the inverses and return the total, as well as the sorted array\n",
    "        inversions += inv1+inv2\n",
    "        return inversions,B\n",
    "    else:\n",
    "        return 0,A"
   ]
  },
  {
   "cell_type": "code",
   "execution_count": 9,
   "metadata": {},
   "outputs": [
    {
     "data": {
      "text/plain": [
       "(17, [0, 1, 2, 3, 4, 5, 6, 7])"
      ]
     },
     "execution_count": 9,
     "metadata": {},
     "output_type": "execute_result"
    }
   ],
   "source": [
    "arr = [4,2,1,7,6,5,3,0]\n",
    "Total_Inversions_Merge(arr)"
   ]
  },
  {
   "cell_type": "code",
   "execution_count": 10,
   "metadata": {},
   "outputs": [
    {
     "data": {
      "text/plain": [
       "(15, [0, 1, 2, 3, 4, 5, 6, 7])"
      ]
     },
     "execution_count": 10,
     "metadata": {},
     "output_type": "execute_result"
    }
   ],
   "source": [
    "A = [5,2,3,7,4,0,1,6]\n",
    "Total_Inversions_Merge(A)"
   ]
  },
  {
   "cell_type": "code",
   "execution_count": 11,
   "metadata": {},
   "outputs": [],
   "source": [
    "import random\n",
    "def generate_Array(n) :\n",
    "    lis = []\n",
    "    while len(lis) < n:\n",
    "        #This checks to see if there are duplicate numbers\n",
    "        r = random.randint(0,n)\n",
    "        if r not in lis :\n",
    "            lis.append(r)\n",
    "    return lis"
   ]
  },
  {
   "cell_type": "code",
   "execution_count": 12,
   "metadata": {},
   "outputs": [],
   "source": [
    "n = 10\n",
    "a = generate_Array(n)"
   ]
  },
  {
   "cell_type": "code",
   "execution_count": 13,
   "metadata": {},
   "outputs": [
    {
     "name": "stdout",
     "output_type": "stream",
     "text": [
      "21\n",
      "The brute force method took 0.0 seconds for an array of size 10\n"
     ]
    }
   ],
   "source": [
    "import time\n",
    "start = time.time()\n",
    "print(Number_of_Inversions_BF(a))\n",
    "stop = time.time() - start\n",
    "print(\"The brute force method took \"+str(stop)+\" seconds for an array of size \"+str(10))"
   ]
  },
  {
   "cell_type": "code",
   "execution_count": 14,
   "metadata": {},
   "outputs": [
    {
     "name": "stdout",
     "output_type": "stream",
     "text": [
      "21\n",
      "The merge sort method took 0.0009970664978027344 seconds for an array of size 10\n"
     ]
    }
   ],
   "source": [
    "start = time.time()\n",
    "inv,b = Total_Inversions_Merge(a)\n",
    "print(inv)\n",
    "stop = time.time() - start\n",
    "print(\"The merge sort method took \"+str(stop)+\" seconds for an array of size \"+str(10))"
   ]
  },
  {
   "cell_type": "code",
   "execution_count": 15,
   "metadata": {},
   "outputs": [],
   "source": [
    "n = 10**2\n",
    "a = generate_Array(n)"
   ]
  },
  {
   "cell_type": "code",
   "execution_count": 16,
   "metadata": {},
   "outputs": [
    {
     "name": "stdout",
     "output_type": "stream",
     "text": [
      "2321\n",
      "The brute force method took 0.000997781753540039 seconds for an array of size 10\n"
     ]
    }
   ],
   "source": [
    "start = time.time()\n",
    "print(Number_of_Inversions_BF(a))\n",
    "stop = time.time() - start\n",
    "print(\"The brute force method took \"+str(stop)+\" seconds for an array of size \"+str(10))"
   ]
  },
  {
   "cell_type": "code",
   "execution_count": 17,
   "metadata": {},
   "outputs": [
    {
     "name": "stdout",
     "output_type": "stream",
     "text": [
      "2321\n",
      "The merge sort method took 0.0009963512420654297 seconds for an array of size 10\n"
     ]
    }
   ],
   "source": [
    "start = time.time()\n",
    "inv,b = Total_Inversions_Merge(a)\n",
    "print(inv)\n",
    "stop = time.time() - start\n",
    "print(\"The merge sort method took \"+str(stop)+\" seconds for an array of size \"+str(10))"
   ]
  },
  {
   "cell_type": "code",
   "execution_count": 18,
   "metadata": {},
   "outputs": [],
   "source": [
    "n = 10**3\n",
    "a = generate_Array(n)"
   ]
  },
  {
   "cell_type": "code",
   "execution_count": 19,
   "metadata": {},
   "outputs": [
    {
     "name": "stdout",
     "output_type": "stream",
     "text": [
      "249247\n",
      "The brute force method took 0.04088926315307617 seconds for an array of size 10\n"
     ]
    }
   ],
   "source": [
    "start = time.time()\n",
    "print(Number_of_Inversions_BF(a))\n",
    "stop = time.time() - start\n",
    "print(\"The brute force method took \"+str(stop)+\" seconds for an array of size \"+str(10))"
   ]
  },
  {
   "cell_type": "code",
   "execution_count": 20,
   "metadata": {},
   "outputs": [
    {
     "name": "stdout",
     "output_type": "stream",
     "text": [
      "249247\n",
      "The merge sort method took 0.0049877166748046875 seconds for an array of size 10\n"
     ]
    }
   ],
   "source": [
    "start = time.time()\n",
    "inv,b = Total_Inversions_Merge(a)\n",
    "print(inv)\n",
    "stop = time.time() - start\n",
    "print(\"The merge sort method took \"+str(stop)+\" seconds for an array of size \"+str(10))"
   ]
  },
  {
   "cell_type": "markdown",
   "metadata": {},
   "source": [
    "Based on these samples, I noticed that as n gets larger, the merge sort method works a little longer, mostly due to it being a recursive method. However, in terms of complexity, the merge sort is the least complex. For the brute force method, the algorithm traverses through the list multiples times as it starts at an index and compares it to every value higher than the observed index. Therefore, it has a complexity of $O(n^2)$. For merge sort, we are technically traversing through the list n times, with $log(n)$ being the total amount of times the array is divided. Therefore, the merge sort has a complexity of $O(n\\cdot log(n))$"
   ]
  }
 ],
 "metadata": {
  "kernelspec": {
   "display_name": "Python 3",
   "language": "python",
   "name": "python3"
  },
  "language_info": {
   "codemirror_mode": {
    "name": "ipython",
    "version": 3
   },
   "file_extension": ".py",
   "mimetype": "text/x-python",
   "name": "python",
   "nbconvert_exporter": "python",
   "pygments_lexer": "ipython3",
   "version": "3.8.3"
  }
 },
 "nbformat": 4,
 "nbformat_minor": 4
}
