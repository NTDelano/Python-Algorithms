{
 "cells": [
  {
   "cell_type": "code",
   "execution_count": 1,
   "metadata": {},
   "outputs": [
    {
     "data": {
      "text/plain": [
       "['y', 'z', 'x']"
      ]
     },
     "execution_count": 1,
     "metadata": {},
     "output_type": "execute_result"
    }
   ],
   "source": [
    "#This was a practice equation that I coded from the textbook. Wanted to test \n",
    "#out the rearrangment method\n",
    "def triples(A):\n",
    "    A[0],A[1],A[2]=A[1],A[2],A[0]\n",
    "    return A\n",
    "\n",
    "triples(['x','y','z'])"
   ]
  },
  {
   "cell_type": "code",
   "execution_count": 2,
   "metadata": {},
   "outputs": [],
   "source": [
    "#Program 1: Reverses elements in array from left to right\n",
    "def reveresedArray(A):\n",
    "    #Set my indexes to beginning of array to end of array\n",
    "    start = 0\n",
    "    stop = len(A)-1\n",
    "    \n",
    "    #while loop so that start and stop indexed elements switch, then the range\n",
    "    #between start and stop gets smaller and smaller till they either pass each \n",
    "    #other or reach the same index at the middle element\n",
    "    while start < stop:\n",
    "        A[start], A[stop] = A[stop], A[start]\n",
    "        start += 1\n",
    "        stop -= 1\n",
    "    \n",
    "    #Returns the reversed Array\n",
    "    return \"Your array in reversed order is \" + str(A)"
   ]
  },
  {
   "cell_type": "code",
   "execution_count": 3,
   "metadata": {
    "scrolled": true
   },
   "outputs": [
    {
     "data": {
      "text/plain": [
       "'Your array in reversed order is [9, 8, 7, 6, 5, 4, 3, 2, 1]'"
      ]
     },
     "execution_count": 3,
     "metadata": {},
     "output_type": "execute_result"
    }
   ],
   "source": [
    "#Simple Test\n",
    "array = [1,2,3,4,5,6,7,8,9]\n",
    "reveresedArray(array)"
   ]
  },
  {
   "cell_type": "code",
   "execution_count": 4,
   "metadata": {},
   "outputs": [],
   "source": [
    "#Program 2: Rearrange array so the kth value from the end of the array is the first element in the array, while keeping the \n",
    "#order of the elements and without creating sub arrays\n",
    "def wrap_by_k(A,k):\n",
    "    \n",
    "    #Create my start and stop values that I would like to begin rearranging\n",
    "    start = 0\n",
    "    stop = -k\n",
    "    \n",
    "    #For loop that will bring the len(A)-k th element to the len(A)-1 element to the front of array\n",
    "    for i in range(k):\n",
    "        start = i\n",
    "        stop = -k+i\n",
    "        \n",
    "        #While loop that will begin and end at start and stop points, wherein it will decrease its range switching both \n",
    "        #the start and stop elements, then move on to the next range of elements to manipulate\n",
    "        while start%len(A) < stop%len(A):\n",
    "            A[start], A[stop] = A[stop], A[start]\n",
    "            start += 1\n",
    "            stop -= 1\n",
    "            \n",
    "    #I found that if k is an odd value, the last part of the array is in reverse, so this is just to reverse it\n",
    "    if k%2 == 1:\n",
    "        start = k\n",
    "        stop = -1\n",
    "        while start%len(A) < stop%len(A):\n",
    "            A[start], A[stop] = A[stop], A[start]\n",
    "            start += 1\n",
    "            stop -= 1\n",
    "            \n",
    "    #returns reorganized array\n",
    "    return A"
   ]
  },
  {
   "cell_type": "code",
   "execution_count": 5,
   "metadata": {
    "scrolled": true
   },
   "outputs": [
    {
     "data": {
      "text/plain": [
       "[6, 7, 8, 1, 2, 3, 4, 5]"
      ]
     },
     "execution_count": 5,
     "metadata": {},
     "output_type": "execute_result"
    }
   ],
   "source": [
    "#Test 1: should return [6, 7, 8, 1, 2, 3, 4, 5]\n",
    "L = [1,2,3,4,5,6,7,8]\n",
    "wrap_by_k(L,3)"
   ]
  },
  {
   "cell_type": "code",
   "execution_count": 6,
   "metadata": {},
   "outputs": [
    {
     "data": {
      "text/plain": [
       "[6, 7, 8, 9, 1, 2, 3, 4, 5]"
      ]
     },
     "execution_count": 6,
     "metadata": {},
     "output_type": "execute_result"
    }
   ],
   "source": [
    "#Test 2: should return [6, 7, 8, 9, 1, 2, 3, 4, 5]\n",
    "T = [1,2,3,4,5,6,7,8,9]\n",
    "wrap_by_k(T,4)"
   ]
  },
  {
   "cell_type": "code",
   "execution_count": 7,
   "metadata": {
    "scrolled": false
   },
   "outputs": [
    {
     "data": {
      "text/plain": [
       "[5, 6, 7, 8, 9, 1, 2, 3, 4]"
      ]
     },
     "execution_count": 7,
     "metadata": {},
     "output_type": "execute_result"
    }
   ],
   "source": [
    "#Test 3: should return [5, 6, 7, 8, 9, 1, 2, 3, 4]\n",
    "test = [1,2,3,4,5,6,7,8,9]\n",
    "wrap_by_k(test,5)"
   ]
  },
  {
   "cell_type": "code",
   "execution_count": 8,
   "metadata": {},
   "outputs": [
    {
     "name": "stdout",
     "output_type": "stream",
     "text": [
      "0 1\n",
      "5 120\n",
      "10 3628800\n",
      "15 1307674368000\n",
      "20 2432902008176640000\n",
      "25 15511210043330985984000000\n",
      "30 265252859812191058636308480000000\n"
     ]
    }
   ],
   "source": [
    "#Printing out a couple of factorials to try and find a pattern. Here I found that for every factor of 5, there is one 0 within \n",
    "#the factorial, mostly due to 2*5 = 10, which each factorial definetly contains enough factors of 2\n",
    "import math\n",
    "for i in range(0,31,5):\n",
    "    print(i, math.factorial(i))"
   ]
  },
  {
   "cell_type": "code",
   "execution_count": 9,
   "metadata": {},
   "outputs": [],
   "source": [
    "#Program 3: Determine Number of zeroes at the end of a factorials number\n",
    "def factorial_zeros(n):\n",
    "    \n",
    "    #Create a counter for the number of zeros\n",
    "    counter = 0\n",
    "    #As said, the number of factors that are fives is the number of zeros \n",
    "    divisor = 5\n",
    "    \n",
    "    #Creates a while loop that takes the n value and counts the floor value for n / the divsor\n",
    "    while (n/divisor) >= 1:\n",
    "        counter += n//divisor\n",
    "        divisor *= 5\n",
    "    print(counter)"
   ]
  },
  {
   "cell_type": "code",
   "execution_count": 10,
   "metadata": {},
   "outputs": [
    {
     "name": "stdout",
     "output_type": "stream",
     "text": [
      "6\n"
     ]
    }
   ],
   "source": [
    "#Test 1: 25!, should return 6\n",
    "factorial_zeros(25)"
   ]
  },
  {
   "cell_type": "code",
   "execution_count": 11,
   "metadata": {},
   "outputs": [
    {
     "name": "stdout",
     "output_type": "stream",
     "text": [
      "24\n"
     ]
    }
   ],
   "source": [
    "#Test 2: 100!, should return 24\n",
    "factorial_zeros(100)"
   ]
  },
  {
   "cell_type": "code",
   "execution_count": 12,
   "metadata": {},
   "outputs": [
    {
     "name": "stdout",
     "output_type": "stream",
     "text": [
      "0\n"
     ]
    }
   ],
   "source": [
    "#Test 3: 4!, should return 0, since no factors of 5\n",
    "factorial_zeros(4)"
   ]
  },
  {
   "cell_type": "code",
   "execution_count": 13,
   "metadata": {},
   "outputs": [],
   "source": [
    "#Program 4: construct bubble sort as specified from the textbook and example problem\n",
    "def bubble_sort(A):\n",
    "    for i in range(1,len(A)):\n",
    "        for j in range(0,len(A)-1):\n",
    "            if A[j] > A[j+1]:\n",
    "                A[j], A[j+1] = A[j+1], A[j]\n",
    "    return A"
   ]
  },
  {
   "cell_type": "code",
   "execution_count": 14,
   "metadata": {},
   "outputs": [
    {
     "data": {
      "text/plain": [
       "[1, 2, 3, 4, 5]"
      ]
     },
     "execution_count": 14,
     "metadata": {},
     "output_type": "execute_result"
    }
   ],
   "source": [
    "A = [3,2,1,4,5]\n",
    "bubble_sort(A)"
   ]
  },
  {
   "cell_type": "code",
   "execution_count": 15,
   "metadata": {},
   "outputs": [
    {
     "data": {
      "text/plain": [
       "[1, 2, 3, 4, 5, 6, 7, 8, 8]"
      ]
     },
     "execution_count": 15,
     "metadata": {},
     "output_type": "execute_result"
    }
   ],
   "source": [
    "B = [3,7,8,4,1,8,5,6,2]\n",
    "bubble_sort(B)"
   ]
  },
  {
   "cell_type": "code",
   "execution_count": 16,
   "metadata": {},
   "outputs": [
    {
     "name": "stdout",
     "output_type": "stream",
     "text": [
      "12.409254789352417\n"
     ]
    }
   ],
   "source": [
    "#Time it takes to use bubble sort for array of size 10000\n",
    "import time\n",
    "start_time = time.time()\n",
    "import random\n",
    "list4=[random.randint(0,10) for i in range(10000)]\n",
    "bubble_sort(list4)\n",
    "print(time.time()-start_time)"
   ]
  }
 ],
 "metadata": {
  "kernelspec": {
   "display_name": "Python 3",
   "language": "python",
   "name": "python3"
  },
  "language_info": {
   "codemirror_mode": {
    "name": "ipython",
    "version": 3
   },
   "file_extension": ".py",
   "mimetype": "text/x-python",
   "name": "python",
   "nbconvert_exporter": "python",
   "pygments_lexer": "ipython3",
   "version": "3.8.3"
  }
 },
 "nbformat": 4,
 "nbformat_minor": 4
}
