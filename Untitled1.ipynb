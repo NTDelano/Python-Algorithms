{
 "cells": [
  {
   "cell_type": "code",
   "execution_count": 32,
   "metadata": {},
   "outputs": [],
   "source": [
    "def greatest_sum_subarray(A):\n",
    "    highestSum = 0\n",
    "    start = 0\n",
    "    stop = len(A)-1\n",
    "    for i in range(len(A)):\n",
    "        highestSum+=A[i]\n",
    "    print(highestSum)    \n",
    "    currentSum = highestSum    \n",
    "    for i in range(len(A)):\n",
    "        currentSum-=A[i]\n",
    "        if currentSum < highestSum:\n",
    "            i+=1\n",
    "        elif currentSum > highestSum:\n",
    "            highestSum = currentSum\n",
    "            start=i+1\n",
    "        print(highestSum, currentSum, start, stop)\n",
    "    currentSum = highestSum\n",
    "    for i in reversed(range(start,len(A))):\n",
    "        currentSum-=A[i]\n",
    "        if currentSum < highestSum:\n",
    "            i-=1\n",
    "        elif currentSum > highestSum:\n",
    "            highestSum = currentSum\n",
    "            stop=i-1\n",
    "        print(highestSum, currentSum, start, stop)\n",
    "    return highestSum, start, stop"
   ]
  },
  {
   "cell_type": "code",
   "execution_count": 33,
   "metadata": {
    "scrolled": true
   },
   "outputs": [
    {
     "name": "stdout",
     "output_type": "stream",
     "text": [
      "14\n",
      "14 12 0 5\n",
      "16 16 2 5\n",
      "16 10 2 5\n",
      "16 2 2 5\n",
      "16 5 2 5\n",
      "16 0 2 5\n",
      "16 11 2 5\n",
      "16 14 2 5\n",
      "16 6 2 5\n",
      "16 0 2 5\n"
     ]
    },
    {
     "data": {
      "text/plain": [
       "(16, 2, 5)"
      ]
     },
     "execution_count": 33,
     "metadata": {},
     "output_type": "execute_result"
    }
   ],
   "source": [
    "test = [2,-4,6,8,-3,5]\n",
    "greatest_sum_subarray(test)"
   ]
  },
  {
   "cell_type": "code",
   "execution_count": null,
   "metadata": {},
   "outputs": [],
   "source": [
    "t = -3\n",
    "t-="
   ]
  },
  {
   "cell_type": "code",
   "execution_count": 34,
   "metadata": {},
   "outputs": [
    {
     "name": "stdout",
     "output_type": "stream",
     "text": [
      "18\n",
      "18 15 0 6\n",
      "20 20 2 6\n",
      "20 18 2 6\n",
      "20 10 2 6\n",
      "20 6 2 6\n",
      "20 7 2 6\n",
      "20 0 2 6\n",
      "20 13 2 6\n",
      "20 14 2 6\n",
      "20 10 2 6\n",
      "20 2 2 6\n",
      "20 0 2 6\n"
     ]
    },
    {
     "data": {
      "text/plain": [
       "(20, 2, 6)"
      ]
     },
     "execution_count": 34,
     "metadata": {},
     "output_type": "execute_result"
    }
   ],
   "source": [
    "test2 = [3, -5, 2, 8, 4, -1, 7]\n",
    "greatest_sum_subarray(test2)"
   ]
  },
  {
   "cell_type": "code",
   "execution_count": 35,
   "metadata": {},
   "outputs": [
    {
     "name": "stdout",
     "output_type": "stream",
     "text": [
      "-3\n",
      "-3 -9 0 3\n",
      "-3 -7 0 3\n",
      "-3 -4 0 3\n",
      "0 0 4 3\n"
     ]
    },
    {
     "data": {
      "text/plain": [
       "(0, 4, 3)"
      ]
     },
     "execution_count": 35,
     "metadata": {},
     "output_type": "execute_result"
    }
   ],
   "source": [
    "test3 = [6,-2,-3,-4]\n",
    "greatest_sum_subarray(test3)"
   ]
  },
  {
   "cell_type": "code",
   "execution_count": 2,
   "metadata": {},
   "outputs": [],
   "source": [
    "def fib(n):\n",
    "    if n==0:\n",
    "        return 0\n",
    "    elif n==1 or n==2:\n",
    "        return 1\n",
    "    else:\n",
    "        return fib(n-1)+fib(n-2)\n",
    "\n"
   ]
  },
  {
   "cell_type": "code",
   "execution_count": 3,
   "metadata": {},
   "outputs": [
    {
     "data": {
      "text/plain": [
       "8"
      ]
     },
     "execution_count": 3,
     "metadata": {},
     "output_type": "execute_result"
    }
   ],
   "source": [
    "fib(6)"
   ]
  },
  {
   "cell_type": "code",
   "execution_count": 27,
   "metadata": {},
   "outputs": [],
   "source": [
    "def findMax(A):\n",
    "    if len(A)==1:\n",
    "        return A[0]\n",
    "    else:\n",
    "        if A[0] <= A[-1]:\n",
    "            A = A[1:]\n",
    "            print(A)\n",
    "            return findMax(A)\n",
    "        elif A[0] > A[-1]:\n",
    "            A = A[:-1]\n",
    "            print(A)\n",
    "            return findMax(A)"
   ]
  },
  {
   "cell_type": "code",
   "execution_count": 28,
   "metadata": {
    "scrolled": true
   },
   "outputs": [
    {
     "name": "stdout",
     "output_type": "stream",
     "text": [
      "[4, 6, 18, 12, 5, 7, 8]\n",
      "[6, 18, 12, 5, 7, 8]\n",
      "[18, 12, 5, 7, 8]\n",
      "[18, 12, 5, 7]\n",
      "[18, 12, 5]\n",
      "[18, 12]\n",
      "[18]\n"
     ]
    },
    {
     "data": {
      "text/plain": [
       "18"
      ]
     },
     "execution_count": 28,
     "metadata": {},
     "output_type": "execute_result"
    }
   ],
   "source": [
    "test = [2,4,6,18,12,5,7,8]\n",
    "findMax(test)"
   ]
  },
  {
   "cell_type": "code",
   "execution_count": 1,
   "metadata": {},
   "outputs": [],
   "source": [
    "import random\n",
    "import time\n",
    "\n",
    "def findMaxBin(A):\n",
    "    n=len(A)\n",
    "    #print(A[0:n//2],\" . \",A[n//2:],\"\\n\")\n",
    "    if n<=1:\n",
    "        return A[0]\n",
    "    else:\n",
    "        return max(findMaxBin(A[:n//2]), findMaxBin(A[n//2:]))\n",
    "    \n",
    "def findMaxLoop(A):\n",
    "    n=len(A)\n",
    "    m=A[0]\n",
    "    for i in range(1,n):\n",
    "        if A[i]>m:\n",
    "            m=A[i]\n",
    "    return m"
   ]
  },
  {
   "cell_type": "code",
   "execution_count": 4,
   "metadata": {},
   "outputs": [
    {
     "name": "stdout",
     "output_type": "stream",
     "text": [
      "9999995\n",
      "0.06525897979736328\n"
     ]
    }
   ],
   "source": [
    "num_rands = 10**6\n",
    "upper_bound = 10*num_rands\n",
    "A=[random.randint(0,upper_bound) for i in range(num_rands)]\n",
    "#print(A)\n",
    "\n",
    "st=time.time()\n",
    "print(findMaxLoop(A))\n",
    "print(time.time()-st)"
   ]
  },
  {
   "cell_type": "code",
   "execution_count": 7,
   "metadata": {},
   "outputs": [],
   "source": [
    "import numpy as np\n",
    "def AverageTimes(n):\n",
    "    total=0\n",
    "    for i in range(n):\n",
    "        num_rands = 10**6\n",
    "        upper_bound = 10*num_rands\n",
    "        A=[random.randint(0,upper_bound) for i in range(num_rands)]\n",
    "        \n",
    "        st=time.time()\n",
    "        findMaxLoop(A)\n",
    "        total += (time.time()-st)\n",
    "    return total/n"
   ]
  },
  {
   "cell_type": "code",
   "execution_count": 11,
   "metadata": {},
   "outputs": [
    {
     "name": "stdout",
     "output_type": "stream",
     "text": [
      "0.09384004592895508\n",
      "Total Time:  173.51284766197205\n"
     ]
    }
   ],
   "source": [
    "st = time.time()\n",
    "print(AverageTimes(100))\n",
    "print(\"Total Time: \",time.time()-st)"
   ]
  }
 ],
 "metadata": {
  "kernelspec": {
   "display_name": "Python 3",
   "language": "python",
   "name": "python3"
  },
  "language_info": {
   "codemirror_mode": {
    "name": "ipython",
    "version": 3
   },
   "file_extension": ".py",
   "mimetype": "text/x-python",
   "name": "python",
   "nbconvert_exporter": "python",
   "pygments_lexer": "ipython3",
   "version": "3.8.3"
  }
 },
 "nbformat": 4,
 "nbformat_minor": 4
}
