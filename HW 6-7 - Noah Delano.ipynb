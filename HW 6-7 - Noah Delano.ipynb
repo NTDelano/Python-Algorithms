{
 "cells": [
  {
   "cell_type": "code",
   "execution_count": 1,
   "metadata": {},
   "outputs": [],
   "source": [
    "#Euclids Algorithm: Meant to find the gradest common divisor amongst two integers\n",
    "def Euclids_Alg(x,y):\n",
    "    #This is just an if statement for arranging the values, with y being the greater number between the two\n",
    "    if (x>y):\n",
    "        x,y = y,x\n",
    "    #Keep track of old x because as soon as x reaches 0, then the last x will be the gcd\n",
    "    oldx = x\n",
    "    while x > 0:\n",
    "       # print(x,y)\n",
    "        #y = x*(some integer) + remainder\n",
    "        #newx = remainder and y = x\n",
    "        x = y%x\n",
    "        y = oldx\n",
    "        if (x != 0):\n",
    "            oldx = x\n",
    "        \n",
    "    return oldx"
   ]
  },
  {
   "cell_type": "code",
   "execution_count": 2,
   "metadata": {},
   "outputs": [
    {
     "data": {
      "text/plain": [
       "7"
      ]
     },
     "execution_count": 2,
     "metadata": {},
     "output_type": "execute_result"
    }
   ],
   "source": [
    "#Test 1: gcd(287,84) = 7\n",
    "Euclids_Alg(287,84)"
   ]
  },
  {
   "cell_type": "code",
   "execution_count": 3,
   "metadata": {},
   "outputs": [
    {
     "data": {
      "text/plain": [
       "11"
      ]
     },
     "execution_count": 3,
     "metadata": {},
     "output_type": "execute_result"
    }
   ],
   "source": [
    "#Test 2: gcd(1001,1331) = 11\n",
    "Euclids_Alg(1001,1331)"
   ]
  },
  {
   "cell_type": "code",
   "execution_count": 4,
   "metadata": {},
   "outputs": [],
   "source": [
    "#Binary to decimal converter that will help with my adding binary program\n",
    "def bin_dec(bi):\n",
    "    dec = 0\n",
    "    power = 0\n",
    "    while (bi > 0):\n",
    "        bValue = bi%10\n",
    "        dec += bValue * 2**power\n",
    "        bi = bi//10\n",
    "        power+=1\n",
    "    return dec"
   ]
  },
  {
   "cell_type": "code",
   "execution_count": 5,
   "metadata": {},
   "outputs": [
    {
     "data": {
      "text/plain": [
       "18"
      ]
     },
     "execution_count": 5,
     "metadata": {},
     "output_type": "execute_result"
    }
   ],
   "source": [
    "#Test 1: 10010 converts to 18\n",
    "bin_dec(10010)"
   ]
  },
  {
   "cell_type": "code",
   "execution_count": 6,
   "metadata": {},
   "outputs": [
    {
     "data": {
      "text/plain": [
       "116"
      ]
     },
     "execution_count": 6,
     "metadata": {},
     "output_type": "execute_result"
    }
   ],
   "source": [
    "#Test 2: 1110100 converts to 116\n",
    "bin_dec(1110100)"
   ]
  },
  {
   "cell_type": "code",
   "execution_count": 7,
   "metadata": {},
   "outputs": [],
   "source": [
    "#Decimal to binary converter\n",
    "def dec_bin(n):\n",
    "    stringReturn = \"\"\n",
    "    while n>=1:\n",
    "        stringReturn = str(n%2) + stringReturn\n",
    "        n = n//2\n",
    "    return int(stringReturn)"
   ]
  },
  {
   "cell_type": "code",
   "execution_count": 8,
   "metadata": {},
   "outputs": [
    {
     "data": {
      "text/plain": [
       "10010"
      ]
     },
     "execution_count": 8,
     "metadata": {},
     "output_type": "execute_result"
    }
   ],
   "source": [
    "dec_bin(18)"
   ]
  },
  {
   "cell_type": "code",
   "execution_count": 9,
   "metadata": {},
   "outputs": [
    {
     "data": {
      "text/plain": [
       "1110100"
      ]
     },
     "execution_count": 9,
     "metadata": {},
     "output_type": "execute_result"
    }
   ],
   "source": [
    "dec_bin(116)"
   ]
  },
  {
   "cell_type": "code",
   "execution_count": 10,
   "metadata": {},
   "outputs": [],
   "source": [
    "#Adding binary by converting them to decimal, add them, then convert back to binary\n",
    "def addBinary(x,y):\n",
    "    sumdec = bin_dec(x) + bin_dec(y)\n",
    "    return dec_bin(sumdec)"
   ]
  },
  {
   "cell_type": "code",
   "execution_count": 11,
   "metadata": {},
   "outputs": [
    {
     "data": {
      "text/plain": [
       "11111001"
      ]
     },
     "execution_count": 11,
     "metadata": {},
     "output_type": "execute_result"
    }
   ],
   "source": [
    "addBinary(10010011, 1100110)"
   ]
  },
  {
   "cell_type": "code",
   "execution_count": 12,
   "metadata": {},
   "outputs": [],
   "source": [
    "#Conversion from decimal to some value base number, just as binary is base 2\n",
    "def dec_valueBase(n,base):\n",
    "    if base>9:\n",
    "        return print(\"error: base must be less than 10\")\n",
    "    stringReturn = \"\"\n",
    "    #Same process as done from dec to binary, but instead using mod b rather than mod 2, depending on the base chosen\n",
    "    while n>=1:\n",
    "        print(n,n%base,n//base)\n",
    "        stringReturn = str(n%base) + stringReturn\n",
    "        n = n//base\n",
    "    return int(stringReturn)"
   ]
  },
  {
   "cell_type": "code",
   "execution_count": 13,
   "metadata": {},
   "outputs": [
    {
     "name": "stdout",
     "output_type": "stream",
     "text": [
      "1365 0 195\n",
      "195 6 27\n",
      "27 6 3\n",
      "3 3 0\n"
     ]
    },
    {
     "data": {
      "text/plain": [
       "3660"
      ]
     },
     "execution_count": 13,
     "metadata": {},
     "output_type": "execute_result"
    }
   ],
   "source": [
    "dec_valueBase(1365,7)"
   ]
  },
  {
   "cell_type": "code",
   "execution_count": 14,
   "metadata": {},
   "outputs": [],
   "source": [
    "def Karatsuba_Alg(x,y):\n",
    "    if(len(str(x))==1 or len(str(y))==1):\n",
    "        return x*y\n",
    "    else:\n",
    "        \n",
    "        n = max(len(str(x)),len(str(y)))\n",
    "        a = x//10**(n//2)\n",
    "        b = x%10**(n//2)\n",
    "        c = y//10**(n//2)\n",
    "        d = y%10**(n//2)\n",
    "        print(\"n = \"+str(n))\n",
    "        print(\"a=\"+str(a)+\" b=\"+str(b)+\" c=\"+str(c)+\" d=\"+str(d))\n",
    "        ac = Karatsuba_Alg(a,c)\n",
    "        bd = Karatsuba_Alg(b,d)\n",
    "        bc = Karatsuba_Alg(b,c)\n",
    "        ad = Karatsuba_Alg(a,d)\n",
    "        print(\"ac=\"+str(a)+\"*\"+str(c)+\"=\"+str(ac))\n",
    "        print(\"bd=\"+str(b)+\"*\"+str(d)+\"=\"+str(bd))\n",
    "        \n",
    "        # bc+ad = (bc+ad+ac+bd) - ac-bd = a(c+d)+b(c+d) -ac-bd = (a+b)(c+d) -ac-bd\n",
    "        #bc_plus_ad = Karatsuba_Alg(a+b,c+d) - ac - bd\n",
    "        bc_plus_ad = bc+ad\n",
    "        #print(\"bc+ad=(\"+str(b)+\"*\"+str(c)+\")+(\"+str(a)+\"*\"+str(d)+\")=\"+str(bc_plus_ad))\n",
    "        result = (ac*10**(n)) + (bc_plus_ad*10**(n//2)) + bd\n",
    "        print(\"product=\"+str(ac)+\"*\"+str(10**n)+\" + \"+str(bc_plus_ad)+\"*\"+str(10**(n//2))+\" + \"+str(bd)+\" = \"+str(result))\n",
    "        return result"
   ]
  },
  {
   "cell_type": "code",
   "execution_count": 15,
   "metadata": {
    "scrolled": true
   },
   "outputs": [
    {
     "name": "stdout",
     "output_type": "stream",
     "text": [
      "n = 4\n",
      "a=12 b=34 c=56 d=78\n",
      "n = 2\n",
      "a=1 b=2 c=5 d=6\n",
      "ac=1*5=5\n",
      "bd=2*6=12\n",
      "product=5*100 + 16*10 + 12 = 672\n",
      "n = 2\n",
      "a=3 b=4 c=7 d=8\n",
      "ac=3*7=21\n",
      "bd=4*8=32\n",
      "product=21*100 + 52*10 + 32 = 2652\n",
      "n = 2\n",
      "a=3 b=4 c=5 d=6\n",
      "ac=3*5=15\n",
      "bd=4*6=24\n",
      "product=15*100 + 38*10 + 24 = 1904\n",
      "n = 2\n",
      "a=1 b=2 c=7 d=8\n",
      "ac=1*7=7\n",
      "bd=2*8=16\n",
      "product=7*100 + 22*10 + 16 = 936\n",
      "ac=12*56=672\n",
      "bd=34*78=2652\n",
      "product=672*10000 + 2840*100 + 2652 = 7006652\n"
     ]
    },
    {
     "data": {
      "text/plain": [
       "7006652"
      ]
     },
     "execution_count": 15,
     "metadata": {},
     "output_type": "execute_result"
    }
   ],
   "source": [
    "#answer = 7006652\n",
    "Karatsuba_Alg(1234,5678)"
   ]
  }
 ],
 "metadata": {
  "kernelspec": {
   "display_name": "Python 3",
   "language": "python",
   "name": "python3"
  },
  "language_info": {
   "codemirror_mode": {
    "name": "ipython",
    "version": 3
   },
   "file_extension": ".py",
   "mimetype": "text/x-python",
   "name": "python",
   "nbconvert_exporter": "python",
   "pygments_lexer": "ipython3",
   "version": "3.8.3"
  }
 },
 "nbformat": 4,
 "nbformat_minor": 4
}
