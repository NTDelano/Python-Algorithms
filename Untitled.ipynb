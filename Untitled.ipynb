{
 "cells": [
  {
   "cell_type": "code",
   "execution_count": 13,
   "metadata": {},
   "outputs": [],
   "source": [
    "import numpy as np\n",
    "import matplotlib.pyplot as plt\n",
    "import pandas as pd\n",
    "import math\n",
    "\n"
   ]
  },
  {
   "cell_type": "code",
   "execution_count": 14,
   "metadata": {},
   "outputs": [],
   "source": [
    "def maximum(A): #A is an array\n",
    "    m=A[0]\n",
    "    for i in range(len(A)):\n",
    "        if(A[i] > m):\n",
    "            m=A[i]\n",
    "    return m"
   ]
  },
  {
   "cell_type": "code",
   "execution_count": 15,
   "metadata": {},
   "outputs": [
    {
     "name": "stdout",
     "output_type": "stream",
     "text": [
      "4\n",
      "92\n"
     ]
    }
   ],
   "source": [
    "a = [1,4,3,7,1,92,34,9]\n",
    "print(a[1])\n",
    "print(maximum(a))"
   ]
  },
  {
   "cell_type": "code",
   "execution_count": 16,
   "metadata": {},
   "outputs": [],
   "source": [
    "def mx_mn(A):\n",
    "    mx=A[0]\n",
    "    mn=A[0]\n",
    "    for i in range(len(A)):\n",
    "        if A[i] > mx:\n",
    "            mx=A[i]\n",
    "        if A[i] < mn:\n",
    "            mn=A[i]\n",
    "    return mx,mn"
   ]
  },
  {
   "cell_type": "code",
   "execution_count": 17,
   "metadata": {},
   "outputs": [
    {
     "name": "stdout",
     "output_type": "stream",
     "text": [
      "max:  92 , min:  1\n"
     ]
    }
   ],
   "source": [
    "mx,mn = mx_mn(a)\n",
    "print(\"max: \",mx,\", min: \",mn)"
   ]
  }
 ],
 "metadata": {
  "kernelspec": {
   "display_name": "Python 3",
   "language": "python",
   "name": "python3"
  },
  "language_info": {
   "codemirror_mode": {
    "name": "ipython",
    "version": 3
   },
   "file_extension": ".py",
   "mimetype": "text/x-python",
   "name": "python",
   "nbconvert_exporter": "python",
   "pygments_lexer": "ipython3",
   "version": "3.8.3"
  }
 },
 "nbformat": 4,
 "nbformat_minor": 4
}
