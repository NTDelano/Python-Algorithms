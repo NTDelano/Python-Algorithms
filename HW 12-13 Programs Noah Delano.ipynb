{
 "cells": [
  {
   "cell_type": "code",
   "execution_count": 1,
   "metadata": {},
   "outputs": [],
   "source": [
    "#Program 1: Ways to multiply done recursively\n",
    "def ways_to_mult(n):\n",
    "    total=0\n",
    "    #Counter for number of recursive calls\n",
    "    global count\n",
    "    count += 1\n",
    "    #ICs, where x_0=1 and x_1=1\n",
    "    if n==0:\n",
    "        return 1\n",
    "    elif n==1:\n",
    "        return 1\n",
    "    else:\n",
    "        #Recirsive method \n",
    "        for i in range(n):\n",
    "            total += (ways_to_mult(i)*ways_to_mult(n-i-1))        \n",
    "        return total"
   ]
  },
  {
   "cell_type": "code",
   "execution_count": 2,
   "metadata": {},
   "outputs": [
    {
     "name": "stdout",
     "output_type": "stream",
     "text": [
      "Number of ways to multiply 3 non-associative element: 5\n",
      "Number of Recursive Calls for 3 elements: 15\n"
     ]
    }
   ],
   "source": [
    "count=0\n",
    "n=3\n",
    "print('Number of ways to multiply '+str(n)+' non-associative element: '+str(ways_to_mult(n)))\n",
    "print('Number of Recursive Calls for '+str(n)+' elements: '+str(count))"
   ]
  },
  {
   "cell_type": "code",
   "execution_count": 3,
   "metadata": {},
   "outputs": [
    {
     "name": "stdout",
     "output_type": "stream",
     "text": [
      "Number of ways to multiply 4 non-associative element: 14\n",
      "Number of Recursive Calls for 4 elements: 45\n"
     ]
    }
   ],
   "source": [
    "count=0\n",
    "n=4\n",
    "print('Number of ways to multiply '+str(n)+' non-associative element: '+str(ways_to_mult(n)))\n",
    "print('Number of Recursive Calls for '+str(n)+' elements: '+str(count))"
   ]
  },
  {
   "cell_type": "code",
   "execution_count": 4,
   "metadata": {},
   "outputs": [
    {
     "name": "stdout",
     "output_type": "stream",
     "text": [
      "Number of ways to multiply 10 non-associative element: 16796\n",
      "Number of Recursive Calls for 10 elements: 32805\n"
     ]
    }
   ],
   "source": [
    "count=0\n",
    "n=10\n",
    "print('Number of ways to multiply '+str(n)+' non-associative element: '+str(ways_to_mult(n)))\n",
    "print('Number of Recursive Calls for '+str(n)+' elements: '+str(count))"
   ]
  },
  {
   "cell_type": "code",
   "execution_count": 5,
   "metadata": {},
   "outputs": [],
   "source": [
    "#Program 2: Ways to multiply dynamically\n",
    "def ways_to_mult_dynamically(n):\n",
    "    #ICs\n",
    "    c0 = 1\n",
    "    c1 = 1\n",
    "    if n==0 or n==1:\n",
    "        return 1\n",
    "    else:\n",
    "        #add ics to array for later use\n",
    "        arr = []\n",
    "        arr.append(c0)\n",
    "        arr.append(c1)\n",
    "        for i in range(2,n+1):\n",
    "            #appends each value based on n\n",
    "            sumC = 0\n",
    "            for j in range(i):\n",
    "                sumC += arr[j]*arr[i-j-1]\n",
    "            arr.append(sumC)\n",
    "    return arr[-1]"
   ]
  },
  {
   "cell_type": "code",
   "execution_count": 6,
   "metadata": {},
   "outputs": [
    {
     "name": "stdout",
     "output_type": "stream",
     "text": [
      "Number of ways to multiply 3 non-associative element: 5\n"
     ]
    }
   ],
   "source": [
    "n=3\n",
    "print('Number of ways to multiply '+str(n)+' non-associative element: '+str(ways_to_mult_dynamically(n)))"
   ]
  },
  {
   "cell_type": "code",
   "execution_count": 7,
   "metadata": {},
   "outputs": [
    {
     "name": "stdout",
     "output_type": "stream",
     "text": [
      "Number of ways to multiply 4 non-associative element: 14\n"
     ]
    }
   ],
   "source": [
    "n=4\n",
    "print('Number of ways to multiply '+str(n)+' non-associative element: '+str(ways_to_mult_dynamically(n)))"
   ]
  },
  {
   "cell_type": "code",
   "execution_count": 8,
   "metadata": {},
   "outputs": [
    {
     "name": "stdout",
     "output_type": "stream",
     "text": [
      "Number of ways to multiply 10 non-associative element: 16796\n"
     ]
    }
   ],
   "source": [
    "n=10\n",
    "print('Number of ways to multiply '+str(n)+' non-associative element: '+str(ways_to_mult_dynamically(n)))"
   ]
  },
  {
   "cell_type": "code",
   "execution_count": 9,
   "metadata": {},
   "outputs": [],
   "source": [
    "#Experiment with a large n value\n",
    "import time\n",
    "count=0\n",
    "n=100\n",
    "#start = time.time()\n",
    "#print('Number of ways to multiply '+str(n)+' non-associative element: '+str(ways_to_mult(n)))\n",
    "#stop = time.time()-start\n",
    "#print('Time to run recursive program for n=100: '+ str(stop))\n",
    "#print('Number of Recursive Calls for '+str(n)+' elements: '+str(count))"
   ]
  },
  {
   "cell_type": "markdown",
   "metadata": {},
   "source": [
    "So I ran n=100 for the recursive method, and let run for a good half hour and it was still processing"
   ]
  },
  {
   "cell_type": "code",
   "execution_count": 10,
   "metadata": {},
   "outputs": [
    {
     "name": "stdout",
     "output_type": "stream",
     "text": [
      "Number of ways to multiply 100 non-associative element: 896519947090131496687170070074100632420837521538745909320\n",
      "Time to run dynamic program for n=100: 0.0009963512420654297\n"
     ]
    }
   ],
   "source": [
    "n=100\n",
    "start = time.time()\n",
    "print('Number of ways to multiply '+str(n)+' non-associative element: '+str(ways_to_mult_dynamically(n)))\n",
    "stop = time.time()-start\n",
    "print('Time to run dynamic program for n=100: '+ str(stop))"
   ]
  },
  {
   "cell_type": "markdown",
   "metadata": {},
   "source": [
    "Dynamic ran very quick for a larger n as it isn't have to make hundreds of different calls, and instead justr stores info it already has to an array"
   ]
  }
 ],
 "metadata": {
  "kernelspec": {
   "display_name": "Python 3",
   "language": "python",
   "name": "python3"
  },
  "language_info": {
   "codemirror_mode": {
    "name": "ipython",
    "version": 3
   },
   "file_extension": ".py",
   "mimetype": "text/x-python",
   "name": "python",
   "nbconvert_exporter": "python",
   "pygments_lexer": "ipython3",
   "version": "3.8.3"
  }
 },
 "nbformat": 4,
 "nbformat_minor": 4
}
