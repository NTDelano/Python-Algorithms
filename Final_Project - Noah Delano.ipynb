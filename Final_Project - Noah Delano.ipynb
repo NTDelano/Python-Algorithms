{
 "cells": [
  {
   "cell_type": "markdown",
   "metadata": {},
   "source": [
    "### Program 1: A simple quicksort algorithm, that uses the first element in the list as the pivot"
   ]
  },
  {
   "cell_type": "code",
   "execution_count": 1,
   "metadata": {},
   "outputs": [],
   "source": [
    "# Vanilla QuickSort (created by Professor Rick Cornez)-pivot is always first element\n",
    "\n",
    "import random\n",
    "\n",
    "def partition_first(A, left, r):\n",
    "    \n",
    "    #Set pivot as the first element within subarray from left to right\n",
    "    pivot = A[left]\n",
    "    \n",
    "    #Start the i index at the element after the pivot\n",
    "    i = left+1       \n",
    "\n",
    "    #Create another index value j, and iterate from i to the right index\n",
    "    for j in range(i, r):\n",
    "        \n",
    "        #if the element at j index is less than the pivot element\n",
    "        if A[j] < pivot:\n",
    "            \n",
    "            #Switch the elements at i and j\n",
    "            A[j], A[i] = A[i], A[j]\n",
    "            \n",
    "            #Then increase i by 1\n",
    "            i = i+1\n",
    "            \n",
    "    #Once j has been iterated through, we switch the pivot element and the i-1 elment \n",
    "    #and mark i-1 as the the point where the array will be split into two\n",
    "    A[left], A[i-1] = A[i-1], A[left]\n",
    "    return i-1\n",
    "\n",
    "#When array is to be sorted, the input is the array, and the left and right boundaries of said array\n",
    "def quicksort_first(A, left, r):\n",
    "    \n",
    "    #If the left index is greater then the right, then we have finished iterating through, so we just simply return the array\n",
    "    if left >= r:\n",
    "        return\n",
    "    \n",
    "    #Mark our first element\n",
    "    i = left\n",
    "    \n",
    "    #Then sort based on the pivot and mark where values greater then pivot are on one side, and those less than pivot \n",
    "    #are on the other\n",
    "    j = partition_first(A, i, r)   # Then do the partitioning\n",
    "\n",
    "    #once completed, repeat quicksort process from left to j, as well as j+1 to end of the array\n",
    "    quicksort_first(A, i, j)      \n",
    "    quicksort_first(A, j+1, r)    "
   ]
  },
  {
   "cell_type": "code",
   "execution_count": 2,
   "metadata": {},
   "outputs": [
    {
     "name": "stdout",
     "output_type": "stream",
     "text": [
      "[1, 2, 3, 4, 5, 6, 7, 8]\n"
     ]
    }
   ],
   "source": [
    "#Simple Test\n",
    "A=[3,8,2,5,1,4,7,6]\n",
    "quicksort_first(A,0,len(A))\n",
    "\n",
    "print(A)"
   ]
  },
  {
   "cell_type": "markdown",
   "metadata": {},
   "source": [
    "### Program 2: A quicksort algorithm, that uses the last element in the list as the pivot"
   ]
  },
  {
   "cell_type": "code",
   "execution_count": 3,
   "metadata": {},
   "outputs": [],
   "source": [
    "#Quicksort that uses the last element as the pivot, based upon the quicksort of the first element\n",
    "\n",
    "def partition_last(A, left, right):\n",
    "    \n",
    "    #Set pivot as the last element within subarray from left to right\n",
    "    pivot = A[right]\n",
    "    \n",
    "    #Initialize i as -1 within subarray\n",
    "    i = left-1   \n",
    "\n",
    "    #Similar to before, we will iterate from left to right\n",
    "    for j in range(left, right):\n",
    "        \n",
    "        #If element at j index is less than or equal to pivot\n",
    "        if A[j] <= pivot:\n",
    "            \n",
    "            #We increase I by 1\n",
    "            i = i+1\n",
    "            \n",
    "            #and switch the elements at index i and j\n",
    "            A[j], A[i] = A[i], A[j]\n",
    "    \n",
    "    #Once Iterated through, we switch the last element and the i+1 element\n",
    "    A[i+1], A[right] = A[right], A[i+1]\n",
    "    \n",
    "    #and mark i+11 as the the point where the array will be split into two\n",
    "    return i+1\n",
    "\n",
    "#When array is to be sorted, the input is the array, and the left and right boundaries of said array\n",
    "def quicksort_last(A, left, right):\n",
    "    \n",
    "    #If the left index is greater then the right, then we have finished iterating through, so we just simply return the array\n",
    "    if left >= right:\n",
    "        return\n",
    "    \n",
    "    #Then sort based on the pivot and mark where values greater then pivot are on one side, and those less than pivot \n",
    "    #are on the other\n",
    "    i = partition_last(A, left, right)\n",
    "    \n",
    "    #Mark our last element\n",
    "    j = right\n",
    "\n",
    "    #Run through quicksort again from left to i-1 and i+1 to right\n",
    "    quicksort_last(A, left, i-1)     \n",
    "    quicksort_last(A, i+1, right)  "
   ]
  },
  {
   "cell_type": "code",
   "execution_count": 4,
   "metadata": {
    "scrolled": true
   },
   "outputs": [
    {
     "name": "stdout",
     "output_type": "stream",
     "text": [
      "[1, 2, 3, 4, 5, 6, 7, 8]\n"
     ]
    }
   ],
   "source": [
    "#QuickTest\n",
    "A=[3,8,2,5,1,4,7,6]\n",
    "\n",
    "quicksort_last(A,0,len(A)-1)\n",
    "print(A)"
   ]
  },
  {
   "cell_type": "markdown",
   "metadata": {},
   "source": [
    "### Program 3: A quicksort algorithm, that uses the middle element in the list as the pivot"
   ]
  },
  {
   "cell_type": "code",
   "execution_count": 5,
   "metadata": {},
   "outputs": [],
   "source": [
    "#Quicksort that uses the middle element as the pivot\n",
    "def partition_middle(A, left, right):\n",
    "    \n",
    "    #Set the pivot as the approximate middle index. If there are an even number of elements, \n",
    "    #then it takes the two middle values and uses the left value as the pivot\n",
    "    pivot = A[(left+right)//2]\n",
    "    \n",
    "    #Set my index i element as the left value in array\n",
    "    i = left\n",
    "    \n",
    "    #Set my index j element as the right value in array\n",
    "    j = right\n",
    "    \n",
    "    #Created a couple while loops. First we ensure that if i > j, the while loop will stop\n",
    "    while (i <= j):\n",
    "        \n",
    "        #While loop that iterates through values before the middle element\n",
    "        #If an element is not less than the pivot, then we stop the while loop for now\n",
    "        while (A[i] < pivot):\n",
    "            i+=1\n",
    "            \n",
    "        #While loop that iterates through values after the middle element\n",
    "        #If an element is not greater than the pivot, then we stop the while loop for now\n",
    "        while (A[j] > pivot):\n",
    "            j-=1\n",
    "\n",
    "        #With both loops broken, and we ensure that i <=j\n",
    "        if i <= j:\n",
    "            \n",
    "            #The we switch the elements at indexes i and j\n",
    "            A[i], A[j] = A[j], A[i]\n",
    "            \n",
    "            #Then increase our i and decrease or j till the main while loop breaks\n",
    "            i+=1\n",
    "            j-=1\n",
    "            \n",
    "    #Return the index i that broke the while loop\n",
    "    return i\n",
    "    \n",
    "#When array is to be sorted, the input is the array, and the left and right boundaries of said array\n",
    "def quicksort_middle(A, left, right):\n",
    "    \n",
    "    #If the left index is greater then the right, then we have finished iterating through, so we just simply return the array\n",
    "    if left >= right:\n",
    "        return\n",
    "    \n",
    "    #Run through given array, and sort based on middle element\n",
    "    i = partition_middle(A, left, right)\n",
    "    \n",
    "    #Repeat quicksort process from left to i-1, as well as i to right\n",
    "    quicksort_middle(A, left, i-1)\n",
    "    quicksort_middle(A, i, right)"
   ]
  },
  {
   "cell_type": "code",
   "execution_count": 6,
   "metadata": {
    "scrolled": true
   },
   "outputs": [
    {
     "name": "stdout",
     "output_type": "stream",
     "text": [
      "[1, 2, 3, 4, 5, 6, 7, 8]\n"
     ]
    }
   ],
   "source": [
    "#Simple Test\n",
    "A=[3,8,2,5,1,4,7,6]\n",
    "\n",
    "quicksort_middle(A,0,len(A)-1)\n",
    "print(A)"
   ]
  },
  {
   "cell_type": "markdown",
   "metadata": {},
   "source": [
    "### Test 1:\n",
    "\n",
    "For my first test, I will be doing a very simple case. I will create a random array of length n, comprised of integers from ($0-1000000$), then measure the time it takes for each of my algorithms, where the pivot is either the first, middle, or last element, and see which on average runs the fastest. One concenr I do have going into this is the fact that I am using recursion, as python has a limit for how many recursions it can do on a single array. So I will mark when it becomes too large for any algorithm"
   ]
  },
  {
   "cell_type": "code",
   "execution_count": 7,
   "metadata": {},
   "outputs": [],
   "source": [
    "import time\n",
    "\n",
    "#Simple function that will take an array and then apply that array to all three quicksorts \n",
    "#and mark the times, finishing off by stating which method was the fastest\n",
    "\n",
    "def timeTest(arr):\n",
    "    \n",
    "    #create my base variables: my array, initial lowest time, and initial fastest algorithm\n",
    "    lowest_time = 10**10\n",
    "    alg = 'None'\n",
    "    n=len(arr)\n",
    "    \n",
    "    ##copy array to 3 seperate arrays as quicksort will alter the base array\n",
    "    arr1, arr2, arr3 = arr, arr, arr\n",
    "    \n",
    "    #for each test, I get the total time, and if it gets an error due to recursion depth, I have it say so\n",
    "    \n",
    "    #quicksort_first\n",
    "    start = float(time.time())\n",
    "    try:\n",
    "        quicksort_first(arr1,0,len(arr1))\n",
    "        stop = float(time.time()-start)\n",
    "        print('Time if Pivot is the first element: '+\"{:.30f}\".format(stop)+\"\\n\")\n",
    "        lowest_time=stop\n",
    "        alg = 'quicksort_first'\n",
    "    except:\n",
    "        print('Array of size '+str(n)+' is too long for quicksort with first element pivot\\n')\n",
    "    \n",
    "    #quicksort_last\n",
    "    start = float(time.time())\n",
    "    try:\n",
    "        quicksort_last(arr2,0,len(arr2)-1)\n",
    "        stop = float(time.time()-start)\n",
    "        print('Time if Pivot is the last element: '+\"{:.30f}\".format(stop)+\"\\n\")\n",
    "        if stop<lowest_time:\n",
    "            lowest_time=stop\n",
    "            alg = 'quicksort_last'\n",
    "    except:\n",
    "        print('Array of size '+str(n)+' is too long for quicksort with last element pivot\\n')\n",
    "    \n",
    "    #quicksort_middle\n",
    "    start = float(time.time())\n",
    "    try:\n",
    "        quicksort_middle(arr3,0,len(arr3)-1)\n",
    "        stop = float(time.time()-start)\n",
    "        print('Time if Pivot is the middle element: '+\"{:.30f}\".format(stop)+\"\\n\")\n",
    "        if stop<lowest_time:\n",
    "            lowest_time=stop\n",
    "            alg = 'quicksort_middle'\n",
    "    except:\n",
    "        print('Array of size '+str(n)+' is too long for quicksort with middle element pivot\\n')\n",
    "    \n",
    "    #Finally print fastest method\n",
    "    print('The fastest method was '+alg+' with a time of '+str(lowest_time))"
   ]
  },
  {
   "cell_type": "code",
   "execution_count": 8,
   "metadata": {},
   "outputs": [],
   "source": [
    "#Create my array of n integers ranging from (0-1000000)\n",
    "def randomArray(n):\n",
    "    arr=[]\n",
    "    for i in range(n):\n",
    "        arr.append(random.randint(0,1000000))\n",
    "    return arr"
   ]
  },
  {
   "cell_type": "code",
   "execution_count": 9,
   "metadata": {
    "scrolled": false
   },
   "outputs": [
    {
     "name": "stdout",
     "output_type": "stream",
     "text": [
      "Time if Pivot is the first element: 0.000000000000000000000000000000\n",
      "\n",
      "Time if Pivot is the last element: 0.000997543334960937500000000000\n",
      "\n",
      "Time if Pivot is the middle element: 0.000000000000000000000000000000\n",
      "\n",
      "The fastest method was quicksort_first with a time of 0.0\n"
     ]
    }
   ],
   "source": [
    "#n=100\n",
    "timeTest(randomArray(10**2))"
   ]
  },
  {
   "cell_type": "code",
   "execution_count": 10,
   "metadata": {
    "scrolled": true
   },
   "outputs": [
    {
     "name": "stdout",
     "output_type": "stream",
     "text": [
      "Time if Pivot is the first element: 0.003990411758422851562500000000\n",
      "\n",
      "Time if Pivot is the last element: 0.103836297988891601562500000000\n",
      "\n",
      "Time if Pivot is the middle element: 0.001995086669921875000000000000\n",
      "\n",
      "The fastest method was quicksort_middle with a time of 0.001995086669921875\n"
     ]
    }
   ],
   "source": [
    "#n=1000\n",
    "timeTest(randomArray(10**3))"
   ]
  },
  {
   "cell_type": "code",
   "execution_count": 11,
   "metadata": {
    "scrolled": false
   },
   "outputs": [
    {
     "name": "stdout",
     "output_type": "stream",
     "text": [
      "Time if Pivot is the first element: 0.026928663253784179687500000000\n",
      "\n",
      "Array of size 10000 is too long for quicksort with last element pivot\n",
      "\n",
      "Time if Pivot is the middle element: 0.016954660415649414062500000000\n",
      "\n",
      "The fastest method was quicksort_middle with a time of 0.016954660415649414\n"
     ]
    }
   ],
   "source": [
    "#n=10000\n",
    "timeTest(randomArray(10**4))"
   ]
  },
  {
   "cell_type": "code",
   "execution_count": 12,
   "metadata": {},
   "outputs": [
    {
     "name": "stdout",
     "output_type": "stream",
     "text": [
      "Time if Pivot is the first element: 0.322054386138916015625000000000\n",
      "\n",
      "Array of size 100000 is too long for quicksort with last element pivot\n",
      "\n",
      "Time if Pivot is the middle element: 0.193484306335449218750000000000\n",
      "\n",
      "The fastest method was quicksort_middle with a time of 0.19348430633544922\n"
     ]
    }
   ],
   "source": [
    "#n=100000\n",
    "timeTest(randomArray(10**5))"
   ]
  },
  {
   "cell_type": "code",
   "execution_count": 13,
   "metadata": {},
   "outputs": [
    {
     "name": "stdout",
     "output_type": "stream",
     "text": [
      "Time if Pivot is the first element: 4.008274078369140625000000000000\n",
      "\n",
      "Array of size 1000000 is too long for quicksort with last element pivot\n",
      "\n",
      "Time if Pivot is the middle element: 3.935932874679565429687500000000\n",
      "\n",
      "The fastest method was quicksort_middle with a time of 3.9359328746795654\n"
     ]
    }
   ],
   "source": [
    "#n=1000000\n",
    "timeTest(randomArray(10**6))"
   ]
  },
  {
   "cell_type": "markdown",
   "metadata": {},
   "source": [
    "### Test 1 Conclusions\n",
    "\n",
    "When $n=10^2$, the time was pretty small, making it hard to differentiate which method was better. However, after running it many times, it usually always said that quicksort_first was the fastest. But as soon as I got into $n=10^3,10^4,10^5$, or just bigger n values, quicksort_middle was typically the fastest. And one other observation that can be made is when we get to $n=10^4$ or higher, quicksort_last seemed to always fail as it keeps reaching its recursion depth max, and therefore can't continue to sort."
   ]
  },
  {
   "cell_type": "markdown",
   "metadata": {},
   "source": [
    "### Test 2:\n",
    "\n",
    "For my second test, I wanted take an already ordered array, and reverse it. This will mean that each elemnt should really belong on its inverse index, but this isn't, possibly creating a scenario that will make each quicksort method wrong a bit longer. But we will see"
   ]
  },
  {
   "cell_type": "code",
   "execution_count": 14,
   "metadata": {},
   "outputs": [],
   "source": [
    "#Creates an array of size n, comprised of random values from (0-10^6), sorts the array \n",
    "#(I just use the simple python sorth implmentation as I justed wanted to get the array) and reverses the entire array\n",
    "def reversed_ordered_array(n):\n",
    "    arr=[]\n",
    "    for i in range(n):\n",
    "        arr.append(random.randint(0,1000000))\n",
    "    arr.sort()\n",
    "    arr = arr[::-1]\n",
    "    return arr"
   ]
  },
  {
   "cell_type": "markdown",
   "metadata": {},
   "source": [
    "Now to test different values of $n4, or length of array being sorted."
   ]
  },
  {
   "cell_type": "code",
   "execution_count": 15,
   "metadata": {
    "scrolled": false
   },
   "outputs": [
    {
     "name": "stdout",
     "output_type": "stream",
     "text": [
      "Time if Pivot is the first element: 0.000997543334960937500000000000\n",
      "\n",
      "Time if Pivot is the last element: 0.000000000000000000000000000000\n",
      "\n",
      "Time if Pivot is the middle element: 0.000000000000000000000000000000\n",
      "\n",
      "The fastest method was quicksort_last with a time of 0.0\n"
     ]
    }
   ],
   "source": [
    "#n=10\n",
    "timeTest(reversed_ordered_array(10**1))"
   ]
  },
  {
   "cell_type": "markdown",
   "metadata": {},
   "source": [
    "For $n=10$, the fastest method was typically quicsort_first, mostly because all the times are so small, it recognizes it as zero for each method, and since quick_sort first is called before the others, it marks it as the fastest"
   ]
  },
  {
   "cell_type": "code",
   "execution_count": 16,
   "metadata": {
    "scrolled": true
   },
   "outputs": [
    {
     "name": "stdout",
     "output_type": "stream",
     "text": [
      "Time if Pivot is the first element: 0.000000000000000000000000000000\n",
      "\n",
      "Time if Pivot is the last element: 0.000997781753540039062500000000\n",
      "\n",
      "Time if Pivot is the middle element: 0.000000000000000000000000000000\n",
      "\n",
      "The fastest method was quicksort_first with a time of 0.0\n"
     ]
    }
   ],
   "source": [
    "#n=100\n",
    "timeTest(reversed_ordered_array(10**2))"
   ]
  },
  {
   "cell_type": "markdown",
   "metadata": {},
   "source": [
    "For $n=10^2$, it tends to vary between the three methods, so there isn't a solid answer as to which is the fastest."
   ]
  },
  {
   "cell_type": "code",
   "execution_count": 17,
   "metadata": {
    "scrolled": true
   },
   "outputs": [
    {
     "name": "stdout",
     "output_type": "stream",
     "text": [
      "Time if Pivot is the first element: 0.085771083831787109375000000000\n",
      "\n",
      "Time if Pivot is the last element: 0.126227617263793945312500000000\n",
      "\n",
      "Time if Pivot is the middle element: 0.001994132995605468750000000000\n",
      "\n",
      "The fastest method was quicksort_middle with a time of 0.0019941329956054688\n"
     ]
    }
   ],
   "source": [
    "#n=1000\n",
    "timeTest(reversed_ordered_array(10**3))"
   ]
  },
  {
   "cell_type": "code",
   "execution_count": 18,
   "metadata": {},
   "outputs": [
    {
     "name": "stdout",
     "output_type": "stream",
     "text": [
      "Array of size 10000 is too long for quicksort with first element pivot\n",
      "\n",
      "Array of size 10000 is too long for quicksort with last element pivot\n",
      "\n",
      "Time if Pivot is the middle element: 0.026229858398437500000000000000\n",
      "\n",
      "The fastest method was quicksort_middle with a time of 0.0262298583984375\n"
     ]
    }
   ],
   "source": [
    "##n=10000\n",
    "timeTest(reversed_ordered_array(10**4))"
   ]
  },
  {
   "cell_type": "code",
   "execution_count": 19,
   "metadata": {},
   "outputs": [
    {
     "name": "stdout",
     "output_type": "stream",
     "text": [
      "Array of size 100000 is too long for quicksort with first element pivot\n",
      "\n",
      "Array of size 100000 is too long for quicksort with last element pivot\n",
      "\n",
      "Time if Pivot is the middle element: 0.302211523056030273437500000000\n",
      "\n",
      "The fastest method was quicksort_middle with a time of 0.3022115230560303\n"
     ]
    }
   ],
   "source": [
    "#n=100000\n",
    "timeTest(reversed_ordered_array(10**5))"
   ]
  },
  {
   "cell_type": "markdown",
   "metadata": {},
   "source": [
    "For $n=10^3$ and higher, once again quicksort_middle was recorded as the fastest. "
   ]
  },
  {
   "cell_type": "markdown",
   "metadata": {},
   "source": [
    "### Test 2 Conclusions\n",
    "One interesting thing I noticed that is happening is with quicksort_first. From the last test, we created an array of random numbers and sorted it. In this case, I took an already sorted list and just reversed the whole thing. Even when dealing with $n=10^6$, the algorithm would still work, even though it wasn't faster than quicksort_middle. But with the reverse array, quicksort_first has trouble just sorting an array of size $10^4$, which is significantly smaller than $10^6$. quicksort_last still has trouble going to $n=10^4$ or higher, similar to how it was from the last test. So based on this test, as well as the previous, quicksort_first seems better for $n=100$ or smaller and quicksort_middle is better as $n$ bets bigger and bigger."
   ]
  },
  {
   "cell_type": "markdown",
   "metadata": {},
   "source": [
    "### Test 3:\n",
    "\n",
    "For this test, I decided to take an ordered list, get the length of said list (or $n$), then square root the length, and record the floor integer (e.g. $14.6578$ => $14$). With this value, I group the array into smaller arrays, with the length of each being this intger we found, and put the remaining elements in a smaller array. Then I took each mini array and shuffled the values and concatenated them together for a whole new array comprised of the same values as the original, which each group shuffled."
   ]
  },
  {
   "cell_type": "code",
   "execution_count": 20,
   "metadata": {},
   "outputs": [],
   "source": [
    "import math\n",
    "\n",
    "def arraySquareRootShuffle(n):\n",
    "    arr = []\n",
    "    for i in range(0,n):\n",
    "        arr.append(i)\n",
    "    #print(arr)\n",
    "    value = (len(arr))**(0.5)\n",
    "    groupSize = math.floor(value)\n",
    "\n",
    "    restOfArray = 0\n",
    "    \n",
    "    for i in range(len(arr)//groupSize):\n",
    "        start = i*groupSize\n",
    "        stop = start+groupSize\n",
    "        temp = arr[start:stop]\n",
    "        random.shuffle(temp)\n",
    "        arr[start:stop] = temp\n",
    "        restOfArray = stop+1\n",
    "    \n",
    "    temp = arr[restOfArray:len(arr)]\n",
    "    arr[restOfArray:len(arr)] = temp\n",
    "    return arr"
   ]
  },
  {
   "cell_type": "code",
   "execution_count": 21,
   "metadata": {},
   "outputs": [
    {
     "name": "stdout",
     "output_type": "stream",
     "text": [
      "Time if Pivot is the first element: 0.000000000000000000000000000000\n",
      "\n",
      "Time if Pivot is the last element: 0.000000000000000000000000000000\n",
      "\n",
      "Time if Pivot is the middle element: 0.000000000000000000000000000000\n",
      "\n",
      "The fastest method was quicksort_first with a time of 0.0\n"
     ]
    }
   ],
   "source": [
    "#n=10\n",
    "timeTest(arraySquareRootShuffle(10**1))"
   ]
  },
  {
   "cell_type": "code",
   "execution_count": 22,
   "metadata": {},
   "outputs": [
    {
     "name": "stdout",
     "output_type": "stream",
     "text": [
      "Time if Pivot is the first element: 0.000000000000000000000000000000\n",
      "\n",
      "Time if Pivot is the last element: 0.000997781753540039062500000000\n",
      "\n",
      "Time if Pivot is the middle element: 0.000000000000000000000000000000\n",
      "\n",
      "The fastest method was quicksort_first with a time of 0.0\n"
     ]
    }
   ],
   "source": [
    "#n=100\n",
    "timeTest(arraySquareRootShuffle(10**2))"
   ]
  },
  {
   "cell_type": "code",
   "execution_count": 23,
   "metadata": {},
   "outputs": [
    {
     "name": "stdout",
     "output_type": "stream",
     "text": [
      "Time if Pivot is the first element: 0.004987478256225585937500000000\n",
      "\n",
      "Time if Pivot is the last element: 0.103723049163818359375000000000\n",
      "\n",
      "Time if Pivot is the middle element: 0.000996351242065429687500000000\n",
      "\n",
      "The fastest method was quicksort_middle with a time of 0.0009963512420654297\n"
     ]
    }
   ],
   "source": [
    "#n=1000\n",
    "timeTest(arraySquareRootShuffle(10**3))"
   ]
  },
  {
   "cell_type": "code",
   "execution_count": 24,
   "metadata": {},
   "outputs": [
    {
     "name": "stdout",
     "output_type": "stream",
     "text": [
      "Time if Pivot is the first element: 0.178526163101196289062500000000\n",
      "\n",
      "Array of size 10000 is too long for quicksort with last element pivot\n",
      "\n",
      "Time if Pivot is the middle element: 0.021942138671875000000000000000\n",
      "\n",
      "The fastest method was quicksort_middle with a time of 0.021942138671875\n"
     ]
    }
   ],
   "source": [
    "#n=10000\n",
    "timeTest(arraySquareRootShuffle(10**4))"
   ]
  },
  {
   "cell_type": "code",
   "execution_count": 25,
   "metadata": {
    "scrolled": false
   },
   "outputs": [
    {
     "name": "stdout",
     "output_type": "stream",
     "text": [
      "Time if Pivot is the first element: 7.407135009765625000000000000000\n",
      "\n",
      "Array of size 100000 is too long for quicksort with last element pivot\n",
      "\n",
      "Time if Pivot is the middle element: 0.274265289306640625000000000000\n",
      "\n",
      "The fastest method was quicksort_middle with a time of 0.2742652893066406\n"
     ]
    }
   ],
   "source": [
    "#n=100000\n",
    "timeTest(arraySquareRootShuffle(10**5))"
   ]
  },
  {
   "cell_type": "code",
   "execution_count": 26,
   "metadata": {
    "scrolled": true
   },
   "outputs": [
    {
     "name": "stdout",
     "output_type": "stream",
     "text": [
      "Array of size 1000000 is too long for quicksort with first element pivot\n",
      "\n",
      "Array of size 1000000 is too long for quicksort with last element pivot\n",
      "\n",
      "Time if Pivot is the middle element: 2.709694862365722656250000000000\n",
      "\n",
      "The fastest method was quicksort_middle with a time of 2.7096948623657227\n"
     ]
    }
   ],
   "source": [
    "#n=1000000\n",
    "timeTest(arraySquareRootShuffle(10**6))"
   ]
  },
  {
   "cell_type": "markdown",
   "metadata": {},
   "source": [
    "### Test 3 Conclusions\n",
    "Once again, similar to the last few tests, quicksort_first was quicker for arrays of size $n=10^2$ or lower, while quicksort_middle was faster for anything higher. Based on these results and tests I can conclude the following:"
   ]
  },
  {
   "cell_type": "markdown",
   "metadata": {},
   "source": [
    "### Final Conclusion\n",
    "\n",
    "quicksort_first: Best for smaller arrays\n",
    "\n",
    "quicksort_middle: Best for bigger arrays\n",
    "\n",
    "quicksort_last: A few times is was good for smaller arrays, but began to fail frequently when size of array was approx $10^4$ due to recursion depth and complexity. Maybe there is a better way to right this program, but based on my test, it ain't the most efficient method"
   ]
  }
 ],
 "metadata": {
  "kernelspec": {
   "display_name": "Python 3",
   "language": "python",
   "name": "python3"
  },
  "language_info": {
   "codemirror_mode": {
    "name": "ipython",
    "version": 3
   },
   "file_extension": ".py",
   "mimetype": "text/x-python",
   "name": "python",
   "nbconvert_exporter": "python",
   "pygments_lexer": "ipython3",
   "version": "3.8.3"
  }
 },
 "nbformat": 4,
 "nbformat_minor": 4
}
