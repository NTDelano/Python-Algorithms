{
 "cells": [
  {
   "cell_type": "code",
   "execution_count": 1,
   "metadata": {},
   "outputs": [],
   "source": [
    "#Linear search: go from 0 to n, searching for target value\n",
    "import time\n",
    "def linear_search(array1,target):\n",
    "    i=0 #start index=0\n",
    "    notFound = True #Initialize that target value has yet to be found\n",
    "    while notFound: #While loop while target isn't found\n",
    "        notFound = (target != array1[i]) #Unless target is found, keeping increasing i\n",
    "        i+=1\n",
    "    \n",
    "    return i-1"
   ]
  },
  {
   "cell_type": "code",
   "execution_count": 2,
   "metadata": {},
   "outputs": [],
   "source": [
    "#binary search, takes hald of array, and create a smaller array depending if the target is > or <, and repeate till \n",
    "#the mid is the target\n",
    "def binary_search(array1,target):\n",
    "    #Initialize boundaries of array\n",
    "    top = len(array1)-1\n",
    "    bottom = 0\n",
    "    #while they are significantly apart\n",
    "    while bottom < top:\n",
    "        mid = (top+bottom)//2\n",
    "        if target == array1[mid]:\n",
    "            return mid\n",
    "        elif target < array1[mid]:\n",
    "            top = mid-1\n",
    "        else:\n",
    "            bottom = mid+1\n",
    "    return mid+1"
   ]
  },
  {
   "cell_type": "code",
   "execution_count": 3,
   "metadata": {},
   "outputs": [
    {
     "name": "stdout",
     "output_type": "stream",
     "text": [
      "10\n",
      "0.0\n",
      "10\n",
      "0.0\n"
     ]
    }
   ],
   "source": [
    "#My first test, however, since the list is so small, the time is very small, and a lot of times just rounds to 0\n",
    "test1 = [0,1,2,3,4,5,6,7,8,9,10,11,12,13,14,15]\n",
    "t0 = float(time.time())\n",
    "print(linear_search(test1,10))\n",
    "t1 = float(time.time())\n",
    "print((t1-t0)*1000)\n",
    "\n",
    "t2 = float(time.time())\n",
    "print(binary_search(test1,10))\n",
    "t3 = float(time.time())\n",
    "print((t3-t2)*1000)\n",
    "\n",
    "if((t3-t2)<(t1-t0)):\n",
    "    print(\"Binary is faster\")\n",
    "elif((t3-t2)>(t1-t0)):\n",
    "    print(\"linear is faster\")"
   ]
  },
  {
   "cell_type": "code",
   "execution_count": 4,
   "metadata": {},
   "outputs": [
    {
     "name": "stdout",
     "output_type": "stream",
     "text": [
      "9999\n",
      "1.989126205444336\n",
      "9999\n",
      "0.0\n",
      "Binary is faster\n"
     ]
    }
   ],
   "source": [
    "#2nd test with a huge range. Similar problem, but works a little better\n",
    "test2 = [i for i in range(100000)]\n",
    "\n",
    "t0 = float(time.time())\n",
    "print(linear_search(test2,9999))\n",
    "t1 = float(time.time())\n",
    "print((t1-t0)*1000)\n",
    "\n",
    "t2 = float(time.time())\n",
    "print(binary_search(test2,9999))\n",
    "t3 = float(time.time())\n",
    "print((t3-t2)*1000)\n",
    "\n",
    "if((t3-t2)<(t1-t0)):\n",
    "    print(\"Binary is faster\")\n",
    "elif((t3-t2)>(t1-t0)):\n",
    "    print(\"linear is faster\")"
   ]
  },
  {
   "cell_type": "code",
   "execution_count": 5,
   "metadata": {},
   "outputs": [],
   "source": [
    "#Got it to work, but my order is 3n, so I need to find a way to reduce complexity\n",
    "def greatest_sum_subarray(A):\n",
    "    highestSum = 0\n",
    "    start = 0\n",
    "    stop = len(A)-1\n",
    "    for i in range(len(A)):\n",
    "        highestSum+=A[i]\n",
    "        \n",
    "    currentSum = highestSum    \n",
    "    for i in range(len(A)-1):\n",
    "        currentSum-=A[i]\n",
    "        if currentSum > highestSum:\n",
    "            highestSum = currentSum\n",
    "            start=i+1\n",
    "            \n",
    "    currentSum = highestSum\n",
    "    for i in reversed(range(start,len(A))):\n",
    "        currentSum-=A[i]\n",
    "        if currentSum > highestSum:\n",
    "            highestSum = currentSum\n",
    "            stop=i-1\n",
    "    return highestSum, start, stop"
   ]
  },
  {
   "cell_type": "code",
   "execution_count": 6,
   "metadata": {},
   "outputs": [
    {
     "data": {
      "text/plain": [
       "(16, 2, 5)"
      ]
     },
     "execution_count": 6,
     "metadata": {},
     "output_type": "execute_result"
    }
   ],
   "source": [
    "test = [2,-4,6,8,-3,5]\n",
    "greatest_sum_subarray(test)"
   ]
  },
  {
   "cell_type": "code",
   "execution_count": 7,
   "metadata": {},
   "outputs": [
    {
     "data": {
      "text/plain": [
       "(20, 2, 6)"
      ]
     },
     "execution_count": 7,
     "metadata": {},
     "output_type": "execute_result"
    }
   ],
   "source": [
    "test2 = [3, -5, 2, 8, 4, -1, 7]\n",
    "greatest_sum_subarray(test2)"
   ]
  },
  {
   "cell_type": "code",
   "execution_count": 8,
   "metadata": {
    "scrolled": false
   },
   "outputs": [
    {
     "data": {
      "text/plain": [
       "(6, 0, 0)"
      ]
     },
     "execution_count": 8,
     "metadata": {},
     "output_type": "execute_result"
    }
   ],
   "source": [
    "test3 = [6,-2,-3,-4]\n",
    "greatest_sum_subarray(test3)"
   ]
  },
  {
   "cell_type": "code",
   "execution_count": 9,
   "metadata": {},
   "outputs": [],
   "source": [
    "#I could probably reduce complexity if I don't start off with finding the full sum. I need this to go so that I only need one\n",
    "#loop. I will still keep the concept of greatsum and currentsum, but start them at the first value of array and see how they \n",
    "#change as I iterate through the list\n",
    "def optimized_greatest_sum_subarray(A):\n",
    "    highestSum = A[0]\n",
    "    currentSum = A[0]\n",
    "    #start = 0\n",
    "    stop = 0\n",
    "    for i in range(1,len(A)):\n",
    "        if (currentSum+A[i]) > currentSum:\n",
    "            stop = i\n",
    "        currentSum = max(currentSum+A[i], A[i])\n",
    "        #if(highestSum>=currentSum):\n",
    "            #start = i\n",
    "            \n",
    "        highestSum = max(highestSum, currentSum)\n",
    "    return highestSum, stop\n",
    "#couldn't mark the start point without a 2nd loop through, but i can mark where the interval ends. Perhaps there is a way to do\n",
    "#it with O(n), but I am stumped"
   ]
  },
  {
   "cell_type": "code",
   "execution_count": 10,
   "metadata": {},
   "outputs": [
    {
     "data": {
      "text/plain": [
       "(16, 5)"
      ]
     },
     "execution_count": 10,
     "metadata": {},
     "output_type": "execute_result"
    }
   ],
   "source": [
    "optimized_greatest_sum_subarray(test)"
   ]
  },
  {
   "cell_type": "code",
   "execution_count": 11,
   "metadata": {},
   "outputs": [
    {
     "data": {
      "text/plain": [
       "(20, 6)"
      ]
     },
     "execution_count": 11,
     "metadata": {},
     "output_type": "execute_result"
    }
   ],
   "source": [
    "optimized_greatest_sum_subarray(test2)"
   ]
  },
  {
   "cell_type": "code",
   "execution_count": 12,
   "metadata": {},
   "outputs": [
    {
     "data": {
      "text/plain": [
       "(6, 0)"
      ]
     },
     "execution_count": 12,
     "metadata": {},
     "output_type": "execute_result"
    }
   ],
   "source": [
    "optimized_greatest_sum_subarray(test3)"
   ]
  }
 ],
 "metadata": {
  "kernelspec": {
   "display_name": "Python 3",
   "language": "python",
   "name": "python3"
  },
  "language_info": {
   "codemirror_mode": {
    "name": "ipython",
    "version": 3
   },
   "file_extension": ".py",
   "mimetype": "text/x-python",
   "name": "python",
   "nbconvert_exporter": "python",
   "pygments_lexer": "ipython3",
   "version": "3.8.3"
  }
 },
 "nbformat": 4,
 "nbformat_minor": 4
}
