{
 "cells": [
  {
   "cell_type": "code",
   "execution_count": 1,
   "metadata": {},
   "outputs": [],
   "source": [
    "#Part 1: Creating an array that takes a given array and multiplys by all other values, except the current iteration, \n",
    "#and all done w/o division\n",
    "def product_without(A):\n",
    "    #Create my front and back product arrays, set at the same size as the given array\n",
    "    FP=[A[0]]*len(A) #if A=[3,6,4,5], then FP=[3, 3*6, 3*6*4, 3*6*4*5]\n",
    "    BP=[A[-1]]*len(A) #if A=[3,6,4,5], then BP=[5*4*6*3, 5*4*6, 5*4, 5]\n",
    "    \n",
    "    #Create the fron and back pruduct using a for loop, with the first term already initialized\n",
    "    for i in range(1,len(A)):\n",
    "        FP[i]=FP[i-1]*A[i]\n",
    "        BP[i]=BP[i-1]*A[-1-i]\n",
    "     #I did the back product backwards as it was easier to create in the for loop. \n",
    "    #Therefore I reversed it here so it would be in the right order\n",
    "    BP=BP[::-1]\n",
    "    \n",
    "    #Initialzed the first and last value of array I want to return, where first is the 2nd value in BP \n",
    "    #and the last being the second to last value of FP\n",
    "    first = BP[1]\n",
    "    last = FP[-2]\n",
    "    finalArray = [0]*(len(A)-2)\n",
    "    #Multiply by a value in FP with two iteratios after the current i in BP\n",
    "    for i in range(0,len(A)-2):\n",
    "        finalArray[i] = FP[i]*BP[i+2]\n",
    "    #Bring the whole array together and return it\n",
    "    finalArray = [first] + finalArray + [last]\n",
    "    return finalArray"
   ]
  },
  {
   "cell_type": "code",
   "execution_count": 2,
   "metadata": {
    "scrolled": true
   },
   "outputs": [
    {
     "data": {
      "text/plain": [
       "[120, 60, 40, 30, 24]"
      ]
     },
     "execution_count": 2,
     "metadata": {},
     "output_type": "execute_result"
    }
   ],
   "source": [
    "#Test 1: If it works, it should  return [120,60,40,30,24]\n",
    "test1 = [1,2,3,4,5]\n",
    "product_without(test1)"
   ]
  },
  {
   "cell_type": "code",
   "execution_count": 3,
   "metadata": {
    "scrolled": true
   },
   "outputs": [
    {
     "data": {
      "text/plain": [
       "[1890, 810, 1134, 945, 630]"
      ]
     },
     "execution_count": 3,
     "metadata": {},
     "output_type": "execute_result"
    }
   ],
   "source": [
    "#Test 2: If it works, it should  return [1890,810,1134,945,630]\n",
    "test2 = [3,7,5,6,9]\n",
    "product_without(test2)"
   ]
  },
  {
   "cell_type": "code",
   "execution_count": 4,
   "metadata": {},
   "outputs": [
    {
     "data": {
      "text/plain": [
       "[280, 420, 210, 168, 840, 120]"
      ]
     },
     "execution_count": 4,
     "metadata": {},
     "output_type": "execute_result"
    }
   ],
   "source": [
    "#Test 3: If it works, it should  return [280,420,210,168,840,120]\n",
    "test3 = [3,2,4,5,1,7]\n",
    "product_without(test3)"
   ]
  },
  {
   "cell_type": "code",
   "execution_count": 5,
   "metadata": {},
   "outputs": [],
   "source": [
    "#Part 2: Find the smallest window in array that needs to be sorted\n",
    "def smallest_window(A):\n",
    "    #My goal is to only traverse the array twice, once by ensuring each iteration is higher than the previous, \n",
    "    #then traverse backwards, ensuring each iteration is lower than the previous\n",
    "    \n",
    "    #Set my max at beginning of array\n",
    "    max_so_far = A[0]\n",
    "    #Set my min at end of array\n",
    "    min_so_far = A[-1]\n",
    "    #Initialize left and right value of window as None as 0 would have just been seen as the 1st value in the array, \n",
    "    #which isn't always true\n",
    "    lh,rh = None,None\n",
    "    \n",
    "    #First look through array, increasin the max as it should either stay the same or increase if array is in order\n",
    "    for i in range(0,len(A)):\n",
    "        if A[i]>=max_so_far:\n",
    "            max_so_far=A[i]\n",
    "        #Therefore, if the next iteration is a lower value than the previous, then it is out of order, \n",
    "        #and so we break the for loop and the left hand of the window begins at the previous correct iteration\n",
    "        elif A[i]<max_so_far:\n",
    "            lh=i-1\n",
    "            break\n",
    "            \n",
    "    #Second look through array, decreasing the min as it should either stay the same \n",
    "    #or decrease if array is in order while traversing in reverse\n",
    "    for i in reversed(range(len(A))):\n",
    "        if A[i]<=min_so_far:\n",
    "            min_so_far=A[i]\n",
    "        #Therefore, if the next iteration is a higher value than the previous, then it is out of order, \n",
    "        #and so we break the for loop and the right hand of the window begins at the previous correct iteration\n",
    "        elif A[i]>min_so_far:\n",
    "            rh = i+1\n",
    "            break\n",
    "    #So if array is order, then I return a statment that says so\n",
    "    if lh==None or rh==None:\n",
    "        return \"List is in order\"\n",
    "    #Else, I give the range of indexes for which the array is out of order\n",
    "    else:\n",
    "        return \"The array is out of order from index \"+ str(lh) + \" to \" + str(rh)"
   ]
  },
  {
   "cell_type": "code",
   "execution_count": 6,
   "metadata": {
    "scrolled": true
   },
   "outputs": [
    {
     "data": {
      "text/plain": [
       "'The array is out of order from index 1 to 3'"
      ]
     },
     "execution_count": 6,
     "metadata": {},
     "output_type": "execute_result"
    }
   ],
   "source": [
    "#Test 1: If it works, it should return indexes 1 to 3\n",
    "Test1 = [4,8,6,5,9,10,15]\n",
    "smallest_window(Test1)"
   ]
  },
  {
   "cell_type": "code",
   "execution_count": 7,
   "metadata": {},
   "outputs": [
    {
     "data": {
      "text/plain": [
       "'The array is out of order from index 3 to 6'"
      ]
     },
     "execution_count": 7,
     "metadata": {},
     "output_type": "execute_result"
    }
   ],
   "source": [
    "#Test 2: If it works, it should return indexes 3 to 6\n",
    "Test2 = [1, 2, 3, 7, 5, 6, 4, 8]\n",
    "smallest_window(Test2)"
   ]
  },
  {
   "cell_type": "code",
   "execution_count": 8,
   "metadata": {},
   "outputs": [
    {
     "data": {
      "text/plain": [
       "'The array is out of order from index 1 to 6'"
      ]
     },
     "execution_count": 8,
     "metadata": {},
     "output_type": "execute_result"
    }
   ],
   "source": [
    "#Test 3: If it works, it should return indexes 1 to 6\n",
    "Test3 = [1, 3, 2, 7, 5, 6, 4, 8]\n",
    "smallest_window(Test3)"
   ]
  }
 ],
 "metadata": {
  "kernelspec": {
   "display_name": "Python 3",
   "language": "python",
   "name": "python3"
  },
  "language_info": {
   "codemirror_mode": {
    "name": "ipython",
    "version": 3
   },
   "file_extension": ".py",
   "mimetype": "text/x-python",
   "name": "python",
   "nbconvert_exporter": "python",
   "pygments_lexer": "ipython3",
   "version": "3.8.3"
  }
 },
 "nbformat": 4,
 "nbformat_minor": 4
}
